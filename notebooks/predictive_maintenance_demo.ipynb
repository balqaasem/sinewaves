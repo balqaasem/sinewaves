{
 "cells": [
  {
   "cell_type": "markdown",
   "metadata": {},
   "source": [
    "# SineWaves: Predictive Maintenance Demo\n",
    "\n",
    "This notebook demonstrates the core functionality of the SineWaves predictive maintenance AI."
   ]
  },
  {
   "cell_type": "code",
   "execution_count": null,
   "metadata": {},
   "outputs": [],
   "source": [
    "import sys\n",
    "sys.path.append('..')\n",
    "\n",
    "from sinewaves.predictor import EquipmentPredictor\n",
    "import pandas as pd\n",
    "import numpy as np"
   ]
  },
  {
   "cell_type": "code",
   "execution_count": null,
   "metadata": {},
   "outputs": [],
   "source": [
    "# Initialize predictor\n",
    "predictor = EquipmentPredictor()\n",
    "\n",
    "# Load sample sensor data\n",
    "sensor_data = pd.read_csv('../data/sample_sensor_data.csv')\n",
    "\n",
    "# Train model\n",
    "predictor.train_model(sensor_data)"
   ]
  },
  {
   "cell_type": "code",
   "execution_count": null,
   "metadata": {},
   "outputs": [],
   "source": [
    "# Predict failures for new data\n",
    "new_sensor_data = pd.read_csv('../data/new_sensor_data.csv')\n",
    "predictions = predictor.predict_failures(new_sensor_data)\n",
    "\n",
    "print(\"Failure Probabilities:\", predictions['failure_probabilities'])\n",
    "print(\"Anomaly Scores:\", predictions['anomaly_scores'])"
   ]
  }
 ],
 "metadata": {
  "kernelspec": {
   "display_name": "Python 3",
   "language": "python",
   "name": "python3"
  }
 },
 "nbformat": 4,
 "nbformat_minor": 2
}
